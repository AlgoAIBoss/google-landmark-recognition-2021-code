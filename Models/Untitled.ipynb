{
 "cells": [
  {
   "cell_type": "code",
   "execution_count": 6,
   "id": "dc2d51a4",
   "metadata": {},
   "outputs": [],
   "source": [
    "import pandas as pd\n",
    "import tensorflow as tf\n",
    "from tensorflow.keras.preprocessing.image import ImageDataGenerator\n",
    "from sklearn.model_selection import train_test_split"
   ]
  },
  {
   "cell_type": "code",
   "execution_count": 28,
   "id": "4ea2368a",
   "metadata": {},
   "outputs": [
    {
     "data": {
      "text/html": [
       "<div>\n",
       "<style scoped>\n",
       "    .dataframe tbody tr th:only-of-type {\n",
       "        vertical-align: middle;\n",
       "    }\n",
       "\n",
       "    .dataframe tbody tr th {\n",
       "        vertical-align: top;\n",
       "    }\n",
       "\n",
       "    .dataframe thead th {\n",
       "        text-align: right;\n",
       "    }\n",
       "</style>\n",
       "<table border=\"1\" class=\"dataframe\">\n",
       "  <thead>\n",
       "    <tr style=\"text-align: right;\">\n",
       "      <th></th>\n",
       "      <th>id</th>\n",
       "      <th>landmark_id</th>\n",
       "    </tr>\n",
       "  </thead>\n",
       "  <tbody>\n",
       "    <tr>\n",
       "      <th>0</th>\n",
       "      <td>17660ef415d37059</td>\n",
       "      <td>1</td>\n",
       "    </tr>\n",
       "    <tr>\n",
       "      <th>1</th>\n",
       "      <td>92b6290d571448f6</td>\n",
       "      <td>1</td>\n",
       "    </tr>\n",
       "    <tr>\n",
       "      <th>2</th>\n",
       "      <td>cd41bf948edc0340</td>\n",
       "      <td>1</td>\n",
       "    </tr>\n",
       "    <tr>\n",
       "      <th>3</th>\n",
       "      <td>fb09f1e98c6d2f70</td>\n",
       "      <td>1</td>\n",
       "    </tr>\n",
       "    <tr>\n",
       "      <th>4</th>\n",
       "      <td>25c9dfc7ea69838d</td>\n",
       "      <td>7</td>\n",
       "    </tr>\n",
       "    <tr>\n",
       "      <th>...</th>\n",
       "      <td>...</td>\n",
       "      <td>...</td>\n",
       "    </tr>\n",
       "    <tr>\n",
       "      <th>1580465</th>\n",
       "      <td>72c3b1c367e3d559</td>\n",
       "      <td>203092</td>\n",
       "    </tr>\n",
       "    <tr>\n",
       "      <th>1580466</th>\n",
       "      <td>7a6a2d9ea92684a6</td>\n",
       "      <td>203092</td>\n",
       "    </tr>\n",
       "    <tr>\n",
       "      <th>1580467</th>\n",
       "      <td>9401fad4c497e1f9</td>\n",
       "      <td>203092</td>\n",
       "    </tr>\n",
       "    <tr>\n",
       "      <th>1580468</th>\n",
       "      <td>aacc960c9a228b5f</td>\n",
       "      <td>203092</td>\n",
       "    </tr>\n",
       "    <tr>\n",
       "      <th>1580469</th>\n",
       "      <td>d9e338c530dca106</td>\n",
       "      <td>203092</td>\n",
       "    </tr>\n",
       "  </tbody>\n",
       "</table>\n",
       "<p>1580470 rows × 2 columns</p>\n",
       "</div>"
      ],
      "text/plain": [
       "                       id landmark_id\n",
       "0        17660ef415d37059           1\n",
       "1        92b6290d571448f6           1\n",
       "2        cd41bf948edc0340           1\n",
       "3        fb09f1e98c6d2f70           1\n",
       "4        25c9dfc7ea69838d           7\n",
       "...                   ...         ...\n",
       "1580465  72c3b1c367e3d559      203092\n",
       "1580466  7a6a2d9ea92684a6      203092\n",
       "1580467  9401fad4c497e1f9      203092\n",
       "1580468  aacc960c9a228b5f      203092\n",
       "1580469  d9e338c530dca106      203092\n",
       "\n",
       "[1580470 rows x 2 columns]"
      ]
     },
     "execution_count": 28,
     "metadata": {},
     "output_type": "execute_result"
    }
   ],
   "source": [
    "landmarks = pd.read_csv('../../Data/train.csv')\n",
    "landmarks.landmark_id = landmarks.landmark_id.astype(str)\n",
    "landmarks"
   ]
  },
  {
   "cell_type": "code",
   "execution_count": 29,
   "id": "091ad87a",
   "metadata": {},
   "outputs": [],
   "source": [
    "def get_file(id):\n",
    "    root = 'C:/Users/samma/Desktop/Data science projects/landmark-recognition-2021/Data/train/'\n",
    "    subfolder ='/'.join(x for x in id[0:3])\n",
    "    file = '/'+id+'.jpg'\n",
    "    return root+subfolder+file"
   ]
  },
  {
   "cell_type": "code",
   "execution_count": 30,
   "id": "524c65b2",
   "metadata": {},
   "outputs": [
    {
     "data": {
      "text/plain": [
       "'C:/Users/samma/Desktop/Data science projects/landmark-recognition-2021/Data/train/1/7/6/17660ef415d37059.jpg'"
      ]
     },
     "execution_count": 30,
     "metadata": {},
     "output_type": "execute_result"
    }
   ],
   "source": [
    "get_file(landmarks.id[0])"
   ]
  },
  {
   "cell_type": "code",
   "execution_count": 31,
   "id": "bd30b06b",
   "metadata": {},
   "outputs": [
    {
     "data": {
      "text/html": [
       "<div>\n",
       "<style scoped>\n",
       "    .dataframe tbody tr th:only-of-type {\n",
       "        vertical-align: middle;\n",
       "    }\n",
       "\n",
       "    .dataframe tbody tr th {\n",
       "        vertical-align: top;\n",
       "    }\n",
       "\n",
       "    .dataframe thead th {\n",
       "        text-align: right;\n",
       "    }\n",
       "</style>\n",
       "<table border=\"1\" class=\"dataframe\">\n",
       "  <thead>\n",
       "    <tr style=\"text-align: right;\">\n",
       "      <th></th>\n",
       "      <th>id</th>\n",
       "      <th>landmark_id</th>\n",
       "      <th>file</th>\n",
       "    </tr>\n",
       "  </thead>\n",
       "  <tbody>\n",
       "    <tr>\n",
       "      <th>0</th>\n",
       "      <td>17660ef415d37059</td>\n",
       "      <td>1</td>\n",
       "      <td>C:/Users/samma/Desktop/Data science projects/l...</td>\n",
       "    </tr>\n",
       "    <tr>\n",
       "      <th>1</th>\n",
       "      <td>92b6290d571448f6</td>\n",
       "      <td>1</td>\n",
       "      <td>C:/Users/samma/Desktop/Data science projects/l...</td>\n",
       "    </tr>\n",
       "    <tr>\n",
       "      <th>2</th>\n",
       "      <td>cd41bf948edc0340</td>\n",
       "      <td>1</td>\n",
       "      <td>C:/Users/samma/Desktop/Data science projects/l...</td>\n",
       "    </tr>\n",
       "    <tr>\n",
       "      <th>3</th>\n",
       "      <td>fb09f1e98c6d2f70</td>\n",
       "      <td>1</td>\n",
       "      <td>C:/Users/samma/Desktop/Data science projects/l...</td>\n",
       "    </tr>\n",
       "    <tr>\n",
       "      <th>4</th>\n",
       "      <td>25c9dfc7ea69838d</td>\n",
       "      <td>7</td>\n",
       "      <td>C:/Users/samma/Desktop/Data science projects/l...</td>\n",
       "    </tr>\n",
       "    <tr>\n",
       "      <th>...</th>\n",
       "      <td>...</td>\n",
       "      <td>...</td>\n",
       "      <td>...</td>\n",
       "    </tr>\n",
       "    <tr>\n",
       "      <th>1580465</th>\n",
       "      <td>72c3b1c367e3d559</td>\n",
       "      <td>203092</td>\n",
       "      <td>C:/Users/samma/Desktop/Data science projects/l...</td>\n",
       "    </tr>\n",
       "    <tr>\n",
       "      <th>1580466</th>\n",
       "      <td>7a6a2d9ea92684a6</td>\n",
       "      <td>203092</td>\n",
       "      <td>C:/Users/samma/Desktop/Data science projects/l...</td>\n",
       "    </tr>\n",
       "    <tr>\n",
       "      <th>1580467</th>\n",
       "      <td>9401fad4c497e1f9</td>\n",
       "      <td>203092</td>\n",
       "      <td>C:/Users/samma/Desktop/Data science projects/l...</td>\n",
       "    </tr>\n",
       "    <tr>\n",
       "      <th>1580468</th>\n",
       "      <td>aacc960c9a228b5f</td>\n",
       "      <td>203092</td>\n",
       "      <td>C:/Users/samma/Desktop/Data science projects/l...</td>\n",
       "    </tr>\n",
       "    <tr>\n",
       "      <th>1580469</th>\n",
       "      <td>d9e338c530dca106</td>\n",
       "      <td>203092</td>\n",
       "      <td>C:/Users/samma/Desktop/Data science projects/l...</td>\n",
       "    </tr>\n",
       "  </tbody>\n",
       "</table>\n",
       "<p>1580470 rows × 3 columns</p>\n",
       "</div>"
      ],
      "text/plain": [
       "                       id landmark_id  \\\n",
       "0        17660ef415d37059           1   \n",
       "1        92b6290d571448f6           1   \n",
       "2        cd41bf948edc0340           1   \n",
       "3        fb09f1e98c6d2f70           1   \n",
       "4        25c9dfc7ea69838d           7   \n",
       "...                   ...         ...   \n",
       "1580465  72c3b1c367e3d559      203092   \n",
       "1580466  7a6a2d9ea92684a6      203092   \n",
       "1580467  9401fad4c497e1f9      203092   \n",
       "1580468  aacc960c9a228b5f      203092   \n",
       "1580469  d9e338c530dca106      203092   \n",
       "\n",
       "                                                      file  \n",
       "0        C:/Users/samma/Desktop/Data science projects/l...  \n",
       "1        C:/Users/samma/Desktop/Data science projects/l...  \n",
       "2        C:/Users/samma/Desktop/Data science projects/l...  \n",
       "3        C:/Users/samma/Desktop/Data science projects/l...  \n",
       "4        C:/Users/samma/Desktop/Data science projects/l...  \n",
       "...                                                    ...  \n",
       "1580465  C:/Users/samma/Desktop/Data science projects/l...  \n",
       "1580466  C:/Users/samma/Desktop/Data science projects/l...  \n",
       "1580467  C:/Users/samma/Desktop/Data science projects/l...  \n",
       "1580468  C:/Users/samma/Desktop/Data science projects/l...  \n",
       "1580469  C:/Users/samma/Desktop/Data science projects/l...  \n",
       "\n",
       "[1580470 rows x 3 columns]"
      ]
     },
     "execution_count": 31,
     "metadata": {},
     "output_type": "execute_result"
    }
   ],
   "source": [
    "landmarks['file'] = landmarks.id.apply(get_file)\n",
    "landmarks"
   ]
  },
  {
   "cell_type": "code",
   "execution_count": 32,
   "id": "f5738adf",
   "metadata": {},
   "outputs": [
    {
     "data": {
      "text/html": [
       "<div>\n",
       "<style scoped>\n",
       "    .dataframe tbody tr th:only-of-type {\n",
       "        vertical-align: middle;\n",
       "    }\n",
       "\n",
       "    .dataframe tbody tr th {\n",
       "        vertical-align: top;\n",
       "    }\n",
       "\n",
       "    .dataframe thead th {\n",
       "        text-align: right;\n",
       "    }\n",
       "</style>\n",
       "<table border=\"1\" class=\"dataframe\">\n",
       "  <thead>\n",
       "    <tr style=\"text-align: right;\">\n",
       "      <th></th>\n",
       "      <th>id</th>\n",
       "      <th>landmark_id</th>\n",
       "      <th>file</th>\n",
       "    </tr>\n",
       "  </thead>\n",
       "  <tbody>\n",
       "    <tr>\n",
       "      <th>729842</th>\n",
       "      <td>d2fe1bc9bd6027c0</td>\n",
       "      <td>93986</td>\n",
       "      <td>C:/Users/samma/Desktop/Data science projects/l...</td>\n",
       "    </tr>\n",
       "    <tr>\n",
       "      <th>1453674</th>\n",
       "      <td>207864de862beb09</td>\n",
       "      <td>187004</td>\n",
       "      <td>C:/Users/samma/Desktop/Data science projects/l...</td>\n",
       "    </tr>\n",
       "    <tr>\n",
       "      <th>1209467</th>\n",
       "      <td>02947ebe5ef092c7</td>\n",
       "      <td>155720</td>\n",
       "      <td>C:/Users/samma/Desktop/Data science projects/l...</td>\n",
       "    </tr>\n",
       "    <tr>\n",
       "      <th>769676</th>\n",
       "      <td>2781d79f5b9b0f41</td>\n",
       "      <td>99361</td>\n",
       "      <td>C:/Users/samma/Desktop/Data science projects/l...</td>\n",
       "    </tr>\n",
       "    <tr>\n",
       "      <th>753290</th>\n",
       "      <td>f8c01c4ee414bae8</td>\n",
       "      <td>97147</td>\n",
       "      <td>C:/Users/samma/Desktop/Data science projects/l...</td>\n",
       "    </tr>\n",
       "    <tr>\n",
       "      <th>...</th>\n",
       "      <td>...</td>\n",
       "      <td>...</td>\n",
       "      <td>...</td>\n",
       "    </tr>\n",
       "    <tr>\n",
       "      <th>64136</th>\n",
       "      <td>6a1d5fb77c24a459</td>\n",
       "      <td>8254</td>\n",
       "      <td>C:/Users/samma/Desktop/Data science projects/l...</td>\n",
       "    </tr>\n",
       "    <tr>\n",
       "      <th>1289737</th>\n",
       "      <td>55e7d553d174fe0f</td>\n",
       "      <td>166190</td>\n",
       "      <td>C:/Users/samma/Desktop/Data science projects/l...</td>\n",
       "    </tr>\n",
       "    <tr>\n",
       "      <th>1413464</th>\n",
       "      <td>4fa105b8a2e609f6</td>\n",
       "      <td>181623</td>\n",
       "      <td>C:/Users/samma/Desktop/Data science projects/l...</td>\n",
       "    </tr>\n",
       "    <tr>\n",
       "      <th>587233</th>\n",
       "      <td>820ec8c1e3e51ff1</td>\n",
       "      <td>75128</td>\n",
       "      <td>C:/Users/samma/Desktop/Data science projects/l...</td>\n",
       "    </tr>\n",
       "    <tr>\n",
       "      <th>36271</th>\n",
       "      <td>41bd98a34e2ca7d5</td>\n",
       "      <td>4600</td>\n",
       "      <td>C:/Users/samma/Desktop/Data science projects/l...</td>\n",
       "    </tr>\n",
       "  </tbody>\n",
       "</table>\n",
       "<p>316094 rows × 3 columns</p>\n",
       "</div>"
      ],
      "text/plain": [
       "                       id landmark_id  \\\n",
       "729842   d2fe1bc9bd6027c0       93986   \n",
       "1453674  207864de862beb09      187004   \n",
       "1209467  02947ebe5ef092c7      155720   \n",
       "769676   2781d79f5b9b0f41       99361   \n",
       "753290   f8c01c4ee414bae8       97147   \n",
       "...                   ...         ...   \n",
       "64136    6a1d5fb77c24a459        8254   \n",
       "1289737  55e7d553d174fe0f      166190   \n",
       "1413464  4fa105b8a2e609f6      181623   \n",
       "587233   820ec8c1e3e51ff1       75128   \n",
       "36271    41bd98a34e2ca7d5        4600   \n",
       "\n",
       "                                                      file  \n",
       "729842   C:/Users/samma/Desktop/Data science projects/l...  \n",
       "1453674  C:/Users/samma/Desktop/Data science projects/l...  \n",
       "1209467  C:/Users/samma/Desktop/Data science projects/l...  \n",
       "769676   C:/Users/samma/Desktop/Data science projects/l...  \n",
       "753290   C:/Users/samma/Desktop/Data science projects/l...  \n",
       "...                                                    ...  \n",
       "64136    C:/Users/samma/Desktop/Data science projects/l...  \n",
       "1289737  C:/Users/samma/Desktop/Data science projects/l...  \n",
       "1413464  C:/Users/samma/Desktop/Data science projects/l...  \n",
       "587233   C:/Users/samma/Desktop/Data science projects/l...  \n",
       "36271    C:/Users/samma/Desktop/Data science projects/l...  \n",
       "\n",
       "[316094 rows x 3 columns]"
      ]
     },
     "execution_count": 32,
     "metadata": {},
     "output_type": "execute_result"
    }
   ],
   "source": [
    "train, valid = train_test_split(landmarks,test_size=0.2, random_state=77)\n",
    "valid"
   ]
  },
  {
   "cell_type": "code",
   "execution_count": 34,
   "id": "23b6e09c",
   "metadata": {},
   "outputs": [
    {
     "name": "stdout",
     "output_type": "stream",
     "text": [
      "Found 1264376 validated image filenames belonging to 81076 classes.\n",
      "Found 316094 validated image filenames belonging to 65950 classes.\n"
     ]
    }
   ],
   "source": [
    "datagen = ImageDataGenerator(rescale=1/255)\n",
    "\n",
    "train_generator = datagen.flow_from_dataframe(dataframe=train, x_col='file', y_col='landmark_id', class_mode='categorical',\n",
    "                                             target_size = (300,300), batch_size=32)\n",
    "validation_generator = datagen.flow_from_dataframe(dataframe=valid, x_col='file',  y_col='landmark_id', class_mode='categorical',\n",
    "                                                  target_size=(300,300), batch_size=32)"
   ]
  },
  {
   "cell_type": "code",
   "execution_count": 35,
   "id": "28f39adf",
   "metadata": {},
   "outputs": [
    {
     "data": {
      "text/plain": [
       "81313"
      ]
     },
     "execution_count": 35,
     "metadata": {},
     "output_type": "execute_result"
    }
   ],
   "source": [
    "len(landmarks.landmark_id.value_counts())"
   ]
  },
  {
   "cell_type": "code",
   "execution_count": 37,
   "id": "6c548d15",
   "metadata": {},
   "outputs": [
    {
     "data": {
      "text/plain": [
       "237"
      ]
     },
     "execution_count": 37,
     "metadata": {},
     "output_type": "execute_result"
    }
   ],
   "source": [
    "len(set(valid.landmark_id.values)-set(train.landmark_id.values))"
   ]
  },
  {
   "cell_type": "code",
   "execution_count": 39,
   "id": "844a9f53",
   "metadata": {},
   "outputs": [
    {
     "ename": "TypeError",
     "evalue": "'Series' objects are mutable, thus they cannot be hashed",
     "output_type": "error",
     "traceback": [
      "\u001b[1;31m---------------------------------------------------------------------------\u001b[0m",
      "\u001b[1;31mTypeError\u001b[0m                                 Traceback (most recent call last)",
      "\u001b[1;32m<ipython-input-39-a41e0563b3b9>\u001b[0m in \u001b[0;36m<module>\u001b[1;34m\u001b[0m\n\u001b[1;32m----> 1\u001b[1;33m \u001b[0mvalid\u001b[0m\u001b[1;33m[\u001b[0m\u001b[0mvalid\u001b[0m\u001b[1;33m.\u001b[0m\u001b[0mlandmark_id\u001b[0m \u001b[1;32mnot\u001b[0m \u001b[1;32min\u001b[0m \u001b[1;33m(\u001b[0m\u001b[0mset\u001b[0m\u001b[1;33m(\u001b[0m\u001b[0mvalid\u001b[0m\u001b[1;33m.\u001b[0m\u001b[0mlandmark_id\u001b[0m\u001b[1;33m.\u001b[0m\u001b[0mvalues\u001b[0m\u001b[1;33m)\u001b[0m\u001b[1;33m-\u001b[0m\u001b[0mset\u001b[0m\u001b[1;33m(\u001b[0m\u001b[0mtrain\u001b[0m\u001b[1;33m.\u001b[0m\u001b[0mlandmark_id\u001b[0m\u001b[1;33m.\u001b[0m\u001b[0mvalues\u001b[0m\u001b[1;33m)\u001b[0m\u001b[1;33m)\u001b[0m\u001b[1;33m]\u001b[0m\u001b[1;33m\u001b[0m\u001b[1;33m\u001b[0m\u001b[0m\n\u001b[0m",
      "\u001b[1;32m~\\anaconda3\\lib\\site-packages\\pandas\\core\\generic.py\u001b[0m in \u001b[0;36m__hash__\u001b[1;34m(self)\u001b[0m\n\u001b[0;32m   1783\u001b[0m \u001b[1;33m\u001b[0m\u001b[0m\n\u001b[0;32m   1784\u001b[0m     \u001b[1;32mdef\u001b[0m \u001b[0m__hash__\u001b[0m\u001b[1;33m(\u001b[0m\u001b[0mself\u001b[0m\u001b[1;33m)\u001b[0m \u001b[1;33m->\u001b[0m \u001b[0mint\u001b[0m\u001b[1;33m:\u001b[0m\u001b[1;33m\u001b[0m\u001b[1;33m\u001b[0m\u001b[0m\n\u001b[1;32m-> 1785\u001b[1;33m         raise TypeError(\n\u001b[0m\u001b[0;32m   1786\u001b[0m             \u001b[1;34mf\"{repr(type(self).__name__)} objects are mutable, \"\u001b[0m\u001b[1;33m\u001b[0m\u001b[1;33m\u001b[0m\u001b[0m\n\u001b[0;32m   1787\u001b[0m             \u001b[1;34mf\"thus they cannot be hashed\"\u001b[0m\u001b[1;33m\u001b[0m\u001b[1;33m\u001b[0m\u001b[0m\n",
      "\u001b[1;31mTypeError\u001b[0m: 'Series' objects are mutable, thus they cannot be hashed"
     ]
    }
   ],
   "source": [
    "valid[valid.landmark_id not in (set(valid.landmark_id.values)-set(train.landmark_id.values))]"
   ]
  },
  {
   "cell_type": "code",
   "execution_count": null,
   "id": "4f28f61d",
   "metadata": {},
   "outputs": [],
   "source": []
  }
 ],
 "metadata": {
  "kernelspec": {
   "display_name": "Python 3",
   "language": "python",
   "name": "python3"
  },
  "language_info": {
   "codemirror_mode": {
    "name": "ipython",
    "version": 3
   },
   "file_extension": ".py",
   "mimetype": "text/x-python",
   "name": "python",
   "nbconvert_exporter": "python",
   "pygments_lexer": "ipython3",
   "version": "3.8.5"
  }
 },
 "nbformat": 4,
 "nbformat_minor": 5
}
